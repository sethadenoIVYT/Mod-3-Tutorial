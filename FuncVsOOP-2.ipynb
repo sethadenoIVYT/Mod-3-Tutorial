{
 "cells": [
  {
   "cell_type": "code",
   "execution_count": 20,
   "id": "5ebb7de7-3b36-4e2f-98a6-87247fa42c4c",
   "metadata": {},
   "outputs": [
    {
     "name": "stdout",
     "output_type": "stream",
     "text": [
      "[0, 0, 1, 2, 2]\n"
     ]
    }
   ],
   "source": [
    "class Solution:\n",
    "    def sort012(self, arr):\n",
    "        arr.sort()\n",
    "        return arr\n",
    "\n",
    "testArr = [0, 2, 1, 2, 0]\n",
    "testSolution = Solution()\n",
    "print(testSolution.sort012(testArr))"
   ]
  },
  {
   "cell_type": "code",
   "execution_count": 1,
   "id": "59420a14-531d-4140-96f3-b8ee596119d0",
   "metadata": {},
   "outputs": [
    {
     "name": "stdout",
     "output_type": "stream",
     "text": [
      "3\n"
     ]
    }
   ],
   "source": [
    "class Solution:\n",
    "    def binarysearch(self, arr, k):\n",
    "        i = 0\n",
    "        for n in range(len(arr)):\n",
    "            if arr[n] == k:\n",
    "                i = 1\n",
    "                break\n",
    "            \n",
    "        if i == 0:\n",
    "            return -1\n",
    "        else:\n",
    "            return n\n",
    "\n",
    "k = 4\n",
    "arr = [1, 2, 3, 4, 5]\n",
    "\n",
    "testBinary = Solution()\n",
    "print(testBinary.binarysearch(arr, k))"
   ]
  }
 ],
 "metadata": {
  "kernelspec": {
   "display_name": "Python 3 (ipykernel)",
   "language": "python",
   "name": "python3"
  },
  "language_info": {
   "codemirror_mode": {
    "name": "ipython",
    "version": 3
   },
   "file_extension": ".py",
   "mimetype": "text/x-python",
   "name": "python",
   "nbconvert_exporter": "python",
   "pygments_lexer": "ipython3",
   "version": "3.12.4"
  }
 },
 "nbformat": 4,
 "nbformat_minor": 5
}
